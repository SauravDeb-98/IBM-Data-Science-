{
  "nbformat": 4,
  "nbformat_minor": 0,
  "metadata": {
    "colab": {
      "provenance": []
    },
    "kernelspec": {
      "name": "python3",
      "display_name": "Python 3"
    },
    "language_info": {
      "name": "python"
    }
  },
  "cells": [
    {
      "cell_type": "markdown",
      "source": [
        "#Data Science Tools and Ecosystem"
      ],
      "metadata": {
        "id": "0i3wxLcjh-Vj"
      }
    },
    {
      "cell_type": "markdown",
      "source": [
        "#In this notebook, Data Science Tools and Ecosystem are summarized."
      ],
      "metadata": {
        "id": "ijrHqRWyi7qq"
      }
    },
    {
      "cell_type": "markdown",
      "source": [
        "#Some of the popular languages that Data Scientists use are:\n",
        "1. Python\n",
        "2. R\n",
        "3. SQL"
      ],
      "metadata": {
        "id": "GkTUAts2lVLR"
      }
    },
    {
      "cell_type": "markdown",
      "source": [
        "#Some of the commonly used libraries used by Data Scientists include:\n",
        "1. Numpy\n",
        "2. Scikitlearn\n",
        "3. Matplotlib "
      ],
      "metadata": {
        "id": "wnK82sbQlfO4"
      }
    },
    {
      "cell_type": "markdown",
      "source": [
        "#Data Science Tools\n",
        "-------------------\n",
        "|Jupyter Notebook| \n",
        "-------------------\n",
        "| RStudio|\n",
        "-------------------\n",
        "| Google Colab |\n",
        "-------------------\n",
        "| GitLab|\n"
      ],
      "metadata": {
        "id": "MVm8xeGgmoPK"
      }
    },
    {
      "cell_type": "markdown",
      "source": [
        "###Below are a few examples of evaluating arithmetic expressions in Python"
      ],
      "metadata": {
        "id": "3NI_c8ZkqJ1L"
      }
    },
    {
      "cell_type": "code",
      "source": [
        "(3*4)+5"
      ],
      "metadata": {
        "colab": {
          "base_uri": "https://localhost:8080/"
        },
        "id": "305HQi-tiNUk",
        "outputId": "8ef73dcf-f97c-42aa-ed11-c2b280c4e867"
      },
      "execution_count": 1,
      "outputs": [
        {
          "output_type": "execute_result",
          "data": {
            "text/plain": [
              "17"
            ]
          },
          "metadata": {},
          "execution_count": 1
        }
      ]
    },
    {
      "cell_type": "code",
      "source": [
        "200/60"
      ],
      "metadata": {
        "colab": {
          "base_uri": "https://localhost:8080/"
        },
        "id": "bXgXYtYJqmFn",
        "outputId": "1819826c-1d29-49b9-a22a-11446bccab41"
      },
      "execution_count": 2,
      "outputs": [
        {
          "output_type": "execute_result",
          "data": {
            "text/plain": [
              "3.3333333333333335"
            ]
          },
          "metadata": {},
          "execution_count": 2
        }
      ]
    },
    {
      "cell_type": "markdown",
      "source": [
        "**Objectives:**\n",
        "\n",
        "\n",
        "*   Python\n",
        "*   R\n",
        "*   GitLab\n",
        "*   RStudio\n",
        "\n",
        "\n",
        "\n"
      ],
      "metadata": {
        "id": "ALK77p5R0WIR"
      }
    },
    {
      "cell_type": "markdown",
      "source": [
        "##Author\n",
        "Saurav Deb"
      ],
      "metadata": {
        "id": "1jhNWMqJ0-QI"
      }
    },
    {
      "cell_type": "code",
      "source": [],
      "metadata": {
        "id": "znNJ3iH90Sqe"
      },
      "execution_count": null,
      "outputs": []
    }
  ]
}